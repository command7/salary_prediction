{
 "cells": [
  {
   "cell_type": "code",
   "execution_count": 1,
   "metadata": {},
   "outputs": [],
   "source": [
    "#!/usr/bin/env python3\n",
    "\n",
    "import pandas as pd\n",
    "import numpy as np\n",
    "import seaborn as sb\n",
    "import matplotlib.pyplot as plt\n",
    "from sklearn.model_selection import train_test_split\n",
    "from sklearn.metrics import mean_squared_error\n",
    "from sklearn.preprocessing import StandardScaler\n",
    "from sklearn.pipeline import Pipeline\n",
    "from sklearn.base import BaseEstimator,TransformerMixin\n",
    "from sklearn.preprocessing import OneHotEncoder\n",
    "from sklearn.pipeline import FeatureUnion\n",
    "from sklearn.preprocessing import PolynomialFeatures\n",
    "from sklearn.linear_model import LinearRegression\n",
    "from sklearn.model_selection import cross_val_score\n",
    "from sklearn.externals import joblib\n",
    "from sklearn.tree import DecisionTreeRegressor\n",
    "from sklearn.linear_model import SGDRegressor\n",
    "from sklearn.linear_model import Ridge"
   ]
  },
  {
   "cell_type": "code",
   "execution_count": 2,
   "metadata": {},
   "outputs": [],
   "source": [
    "class Data():\n",
    "    def __init__(self, csv_file, cat_features, num_features):\n",
    "        self.data_frame = pd.read_csv(csv_file)\n",
    "        self.feature_names = list(self.data_frame.columns.values)\n",
    "        self.cat_features = cat_features\n",
    "        self.num_features = num_features\n",
    "        self.Xtrain = None\n",
    "        self.ytrain = None\n",
    "        self.Xtest = None\n",
    "        self.ytest = None\n",
    "        \n",
    "    def standardize_column_names(self):\n",
    "        old_column_names = self.feature_names\n",
    "        new_column_names = [column_name.lower() for column_name in old_column_names]\n",
    "        self.feature_names = new_column_names\n",
    "        self.data_frame.columns = self.feature_names\n",
    "        \n",
    "    def convert_to_cat_dtype(self):\n",
    "        for feat in self.cat_features:\n",
    "            self.data_frame[feat] = self.data_frame[feat].astype(\"category\")\n",
    "    \n",
    "    def scale_numeric_features(self):\n",
    "        num_features = self.data_frame[self.num_features].values\n",
    "        std_scaler = StandardScaler()\n",
    "        scaled_values = std_scaler.fit_transform(num_features)\n",
    "        return scaled_values\n",
    "        \n",
    "            "
   ]
  },
  {
   "cell_type": "code",
   "execution_count": null,
   "metadata": {},
   "outputs": [],
   "source": [
    "dataset_features = \"data/train_features.csv\"\n",
    "cat_features = [\"companyid\", \"jobtype\", \"degree\", \"major\", \"industry\"]\n",
    "num_features = [\"milesfrommetropolis\", \"yearsexperience\"]\n",
    "if __name__ == '__main__':\n",
    "    data = Data(dataset_features, cat_features, num_features)\n",
    "    scaled = \n",
    "    "
   ]
  }
 ],
 "metadata": {
  "kernelspec": {
   "display_name": "Python 3",
   "language": "python",
   "name": "python3"
  },
  "language_info": {
   "codemirror_mode": {
    "name": "ipython",
    "version": 3
   },
   "file_extension": ".py",
   "mimetype": "text/x-python",
   "name": "python",
   "nbconvert_exporter": "python",
   "pygments_lexer": "ipython3",
   "version": "3.6.8"
  }
 },
 "nbformat": 4,
 "nbformat_minor": 2
}
